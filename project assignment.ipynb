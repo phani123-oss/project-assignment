{
 "cells": [
  {
   "cell_type": "code",
   "execution_count": null,
   "id": "c7d2fc2d-8b65-410f-8302-17b37e5fec61",
   "metadata": {},
   "outputs": [],
   "source": [
    "''' scrapes data from multiple websites and displays it on your site.\n",
    "You can try to scrap websites like youtube , amazon and show data on output pages and deploy it on cloud\n",
    "platform .'''"
   ]
  },
  {
   "cell_type": "code",
   "execution_count": null,
   "id": "d71201fe-01a4-4178-9011-29516a2826ec",
   "metadata": {},
   "outputs": [],
   "source": [
    "#importing python libraries"
   ]
  },
  {
   "cell_type": "code",
   "execution_count": 1,
   "id": "521e46ce-1aa6-40d4-b2a1-97b0e7f4c73c",
   "metadata": {},
   "outputs": [],
   "source": [
    "import requests\n",
    "from bs4 import BeautifulSoup \n",
    "from urllib.request import urlopen \n",
    "import logging"
   ]
  },
  {
   "cell_type": "code",
   "execution_count": 29,
   "id": "9d9596df-9000-4c71-b2bc-488419df8b72",
   "metadata": {},
   "outputs": [],
   "source": [
    "url = \"https://www.youtube.com/\"+\"education4u\"       #taking url from website of youtube"
   ]
  },
  {
   "cell_type": "code",
   "execution_count": 30,
   "id": "480ea9d0-869d-4cf7-a825-76d61cf40a42",
   "metadata": {},
   "outputs": [
    {
     "data": {
      "text/plain": [
       "'https://www.youtube.com/education4u'"
      ]
     },
     "execution_count": 30,
     "metadata": {},
     "output_type": "execute_result"
    }
   ],
   "source": [
    "url"
   ]
  },
  {
   "cell_type": "code",
   "execution_count": 31,
   "id": "c4513458-0e73-4ad1-b9a1-b5edd2534bce",
   "metadata": {},
   "outputs": [],
   "source": [
    "urlclient = urlopen(url)                            #using the library urlopen to get the html page of youtube"
   ]
  },
  {
   "cell_type": "code",
   "execution_count": 32,
   "id": "825a74fe-a9d9-4916-b8b8-a3885ed8fb48",
   "metadata": {},
   "outputs": [
    {
     "data": {
      "text/plain": [
       "<http.client.HTTPResponse at 0x7f7a87f99ff0>"
      ]
     },
     "execution_count": 32,
     "metadata": {},
     "output_type": "execute_result"
    }
   ],
   "source": [
    "urlclient"
   ]
  },
  {
   "cell_type": "code",
   "execution_count": 33,
   "id": "c862afe3-bb73-4611-8993-51b644511def",
   "metadata": {},
   "outputs": [],
   "source": [
    "youtube_page =urlclient.read()"
   ]
  },
  {
   "cell_type": "code",
   "execution_count": null,
   "id": "883642ec-dbfa-4c65-aa9f-92793d3a45f4",
   "metadata": {},
   "outputs": [],
   "source": [
    "#beautifulsoup beautifies our html page in human readable format. not 100% "
   ]
  },
  {
   "cell_type": "code",
   "execution_count": 34,
   "id": "def5265c-3a7d-447f-a027-ce6ed0d78199",
   "metadata": {},
   "outputs": [],
   "source": [
    "youtube_html = BeautifulSoup(youtube_page ,'html.parser')"
   ]
  },
  {
   "cell_type": "code",
   "execution_count": null,
   "id": "a8a22574-97ec-4eb7-b3b5-896ecb863b39",
   "metadata": {},
   "outputs": [],
   "source": [
    "#scraping one youtube link"
   ]
  },
  {
   "cell_type": "code",
   "execution_count": 35,
   "id": "33e4a2f5-11e7-4439-9e51-800f4d739ebc",
   "metadata": {},
   "outputs": [
    {
     "data": {
      "text/plain": [
       "'https://www.youtube.com//watch?v=KU7D5S94GNc'"
      ]
     },
     "execution_count": 35,
     "metadata": {},
     "output_type": "execute_result"
    }
   ],
   "source": [
    "\"https://www.youtube.com/\"+\"/watch?v=KU7D5S94GNc\""
   ]
  },
  {
   "cell_type": "code",
   "execution_count": 36,
   "id": "97ebe8b7-47ec-4b8a-82ec-085a6398ff35",
   "metadata": {},
   "outputs": [
    {
     "data": {
      "text/plain": [
       "[]"
      ]
     },
     "execution_count": 36,
     "metadata": {},
     "output_type": "execute_result"
    }
   ],
   "source": [
    "soup.find_all('a',{\"class\":\"yt-simple-endpoint style-scope ytd-grid-video-renderer\"})"
   ]
  },
  {
   "cell_type": "code",
   "execution_count": null,
   "id": "d4699d1a-1c98-49e5-9863-a307998ed7ce",
   "metadata": {},
   "outputs": [],
   "source": [
    "#taking url link from amazon website"
   ]
  },
  {
   "cell_type": "code",
   "execution_count": 2,
   "id": "eafbf22f-300d-46ef-bff4-e8dbfee1a8f7",
   "metadata": {},
   "outputs": [],
   "source": [
    "url = \"https://www.amazon.in/s?k=\"+\"tv\""
   ]
  },
  {
   "cell_type": "code",
   "execution_count": 3,
   "id": "93c8abc5-4b58-4692-9502-5e446cce5211",
   "metadata": {},
   "outputs": [
    {
     "data": {
      "text/plain": [
       "'https://www.amazon.in/s?k=tv'"
      ]
     },
     "execution_count": 3,
     "metadata": {},
     "output_type": "execute_result"
    }
   ],
   "source": [
    "url"
   ]
  },
  {
   "cell_type": "code",
   "execution_count": 4,
   "id": "3f22e6a3-6782-4841-b2bf-bd7db4a45bc7",
   "metadata": {},
   "outputs": [],
   "source": [
    "urlclient = urlopen(url)\n",
    "#opening amazon htmlpage by using urlopen "
   ]
  },
  {
   "cell_type": "code",
   "execution_count": 5,
   "id": "47059af6-f592-4957-91b4-de4f3026de6a",
   "metadata": {},
   "outputs": [
    {
     "data": {
      "text/plain": [
       "<http.client.HTTPResponse at 0x7fa0bc2e8fa0>"
      ]
     },
     "execution_count": 5,
     "metadata": {},
     "output_type": "execute_result"
    }
   ],
   "source": [
    "urlclient"
   ]
  },
  {
   "cell_type": "code",
   "execution_count": 6,
   "id": "6029c4a7-4004-4f69-8a77-1f5f466f254e",
   "metadata": {},
   "outputs": [],
   "source": [
    "amazon_page = urlclient.read()"
   ]
  },
  {
   "cell_type": "code",
   "execution_count": 7,
   "id": "7d34e8ee-84fc-4d6c-8bea-e5862faee0da",
   "metadata": {},
   "outputs": [],
   "source": [
    "soup = BeautifulSoup(amazon_page,'html.parser')\n",
    "#beautifulsoup used to beauty our html page in human readable form "
   ]
  },
  {
   "cell_type": "code",
   "execution_count": 8,
   "id": "9ed57e21-cc96-4cba-9353-9ce4befa9a4f",
   "metadata": {},
   "outputs": [
    {
     "data": {
      "text/plain": [
       "'https://www.amazon.in/sspa/click?ie=UTF8&spc=MTo0MTc2MzU1MjYwMjEwNjc3OjE2OTk0OTI3MjI6c3BfYXRmOjIwMTUyMzM3ODkwMDk4OjowOjo&url=%2FSamsung-inches-Crystal-iSmart-UA55CUE60AKLXL%2Fdp%2FB0C1GYTFXY%2Fref%3Dsr_1_1_sspa%3Fkeywords%3Dtv%26qid%3D1699492722%26sr%3D8-1-spons%26sp_csd%3Dd2lkZ2V0TmFtZT1zcF9hdGY%26psc%3D1'"
      ]
     },
     "execution_count": 8,
     "metadata": {},
     "output_type": "execute_result"
    }
   ],
   "source": [
    " \"https://www.amazon.in\"+\"/sspa/click?ie=UTF8&spc=MTo0MTc2MzU1MjYwMjEwNjc3OjE2OTk0OTI3MjI6c3BfYXRmOjIwMTUyMzM3ODkwMDk4OjowOjo&url=%2FSamsung-inches-Crystal-iSmart-UA55CUE60AKLXL%2Fdp%2FB0C1GYTFXY%2Fref%3Dsr_1_1_sspa%3Fkeywords%3Dtv%26qid%3D1699492722%26sr%3D8-1-spons%26sp_csd%3Dd2lkZ2V0TmFtZT1zcF9hdGY%26psc%3D1\""
   ]
  },
  {
   "cell_type": "code",
   "execution_count": 13,
   "id": "e27a7724-7aba-4a7a-8e8a-a892861936c9",
   "metadata": {},
   "outputs": [],
   "source": [
    "bigbox = soup.find_all('div',{\"class\":\"sg-col-20-of-24 s-result-item s-asin sg-col-0-of-12 sg-col-16-of-20 sg-col s-widget-spacing-small sg-col-12-of-16\"})\n",
    "#finding all the div classes of products "
   ]
  },
  {
   "cell_type": "code",
   "execution_count": 14,
   "id": "21d408f7-b36d-4f78-8ae0-2098544fa099",
   "metadata": {},
   "outputs": [
    {
     "data": {
      "text/plain": [
       "16"
      ]
     },
     "execution_count": 14,
     "metadata": {},
     "output_type": "execute_result"
    }
   ],
   "source": [
    "len(bigbox)"
   ]
  },
  {
   "cell_type": "code",
   "execution_count": 15,
   "id": "bc594a7c-c1b0-4b38-9d3b-cb27a284fdee",
   "metadata": {},
   "outputs": [],
   "source": [
    "del bigbox[0:3]"
   ]
  },
  {
   "cell_type": "code",
   "execution_count": 16,
   "id": "cfac14c9-5fa0-48da-b46e-ff863f4a796c",
   "metadata": {},
   "outputs": [
    {
     "data": {
      "text/plain": [
       "13"
      ]
     },
     "execution_count": 16,
     "metadata": {},
     "output_type": "execute_result"
    }
   ],
   "source": [
    "len(bigbox)"
   ]
  },
  {
   "cell_type": "code",
   "execution_count": 19,
   "id": "f4161c71-f464-47d7-a73c-f28bcdc1ecfc",
   "metadata": {},
   "outputs": [],
   "source": [
    "productlink=\"https://www.amazon.in\"+ bigbox[0].div.div.div.a['href']"
   ]
  },
  {
   "cell_type": "code",
   "execution_count": 18,
   "id": "0ba4c2aa-7cab-4de3-9429-4e2f00319c6c",
   "metadata": {},
   "outputs": [
    {
     "name": "stdout",
     "output_type": "stream",
     "text": [
      "https://www.amazon.in/TCL-inches-Bezel-Less-Google-32S5400/dp/B0BNVNBXJJ\n",
      "https://www.amazon.in/MI-inches-Vision-Google-L50M8-A2IN/dp/B0CH31C1BR\n",
      "https://www.amazon.in/TCL-inches-Ultra-Google-65C645/dp/B0C43P7CNH\n",
      "https://www.amazon.in/VU-inches-GloLED-Google-55GloLED/dp/B0B9XLX8VR\n",
      "https://www.amazon.in/VU-inches-GloLED-Google-50GloLED/dp/B0B9XJL3RN\n",
      "https://www.amazon.in/MI-inches-Vision-Google-L50M8-5XIN/dp/B0CG5STP81\n",
      "https://www.amazon.in/TCL-inches-Ultra-Google-43C645/dp/B0C43MHTR5\n",
      "https://www.amazon.in/inches-Masterpiece-Android-65QMP-Speaker/dp/B09TBF531G\n",
      "https://www.amazon.in/inches-Masterpiece-Android-75QMP-Speaker/dp/B09TB9V5R1\n",
      "https://www.amazon.in/SANSUI-Bezel-Less-Design-Midnight-JSWY32CSHD/dp/B0BW4FGTFB\n",
      "https://www.amazon.in/TCL-Ready-Smart-Android-Support/dp/B0BZB6TSCC\n",
      "https://www.amazon.in/SANSUI-127cm-Inches-Google-JSW50GSUHD/dp/B0CCDKSQS5\n",
      "https://www.amazon.in/TRUSENSE-Interactive-Panel-Touch-Screen/dp/B0CKN59XTF\n"
     ]
    }
   ],
   "source": [
    "for i in bigbox:\n",
    "    print(\"https://www.amazon.in\"+ i.div.div.div.a['href'])   "
   ]
  },
  {
   "cell_type": "code",
   "execution_count": 20,
   "id": "9715365a-2f09-4d39-960e-96b311df3490",
   "metadata": {},
   "outputs": [
    {
     "data": {
      "text/plain": [
       "'https://www.amazon.in/TCL-inches-Bezel-Less-Google-32S5400/dp/B0BNVNBXJJ'"
      ]
     },
     "execution_count": 20,
     "metadata": {},
     "output_type": "execute_result"
    }
   ],
   "source": [
    "productlink"
   ]
  },
  {
   "cell_type": "code",
   "execution_count": 22,
   "id": "e87086d5-2702-460f-94e3-c73418226943",
   "metadata": {},
   "outputs": [],
   "source": [
    "product_req = requests.get(productlink)"
   ]
  },
  {
   "cell_type": "code",
   "execution_count": 23,
   "id": "c68d0eee-f368-47b2-a7bb-09d6bf5ddc21",
   "metadata": {},
   "outputs": [
    {
     "data": {
      "text/plain": [
       "<Response [503]>"
      ]
     },
     "execution_count": 23,
     "metadata": {},
     "output_type": "execute_result"
    }
   ],
   "source": [
    "product_req"
   ]
  },
  {
   "cell_type": "code",
   "execution_count": null,
   "id": "937b09d3-fa72-4cbb-9613-a0fb8e58cd8c",
   "metadata": {},
   "outputs": [],
   "source": [
    "'''2. Create a Flask app that consumes data from external APIs and displays it to users.\n",
    "0Try to find an public API which will give you a data and based on that call it and deploy it on cloud platform'''"
   ]
  },
  {
   "cell_type": "code",
   "execution_count": null,
   "id": "ef6d534e-15e4-4c80-b1e6-3e99242986f0",
   "metadata": {},
   "outputs": [],
   "source": [
    "'''what is an api? \n",
    "    An Api or application programming interface is set of rules and protocols that allows different \n",
    "    software applications to communicate and interact with each other.\n",
    "    its like a bridge that enables one application to access and use the functionality and data of another \n",
    "    application..\n",
    "    \n",
    "    here .. we are taking googlemap api as an example...'''"
   ]
  },
  {
   "cell_type": "code",
   "execution_count": 7,
   "id": "d1b6eb86-d41b-4715-bfc6-a5e2d386567e",
   "metadata": {},
   "outputs": [],
   "source": [
    "apikey = \"c1518d1e2c5bdd42270a5b78f4ef79c3\"\n",
    "url = \"https://api.openweathermap.org/data/2.5/weather\""
   ]
  },
  {
   "cell_type": "code",
   "execution_count": 8,
   "id": "13e8b9d5-37e9-47be-a5d9-38414bace469",
   "metadata": {},
   "outputs": [],
   "source": [
    "params = {'q':\"hyderabad\",\n",
    "         'appid':apikey}"
   ]
  },
  {
   "cell_type": "code",
   "execution_count": 9,
   "id": "022d4229-e194-4ce5-ab37-9c20777bede7",
   "metadata": {},
   "outputs": [],
   "source": [
    "import requests"
   ]
  },
  {
   "cell_type": "code",
   "execution_count": 10,
   "id": "95551c7c-190e-469a-9217-4c24892800d5",
   "metadata": {},
   "outputs": [],
   "source": [
    "data = requests.get(url,params = params)"
   ]
  },
  {
   "cell_type": "code",
   "execution_count": 11,
   "id": "bd402fb5-e524-43bd-bc29-45b0bcbd7707",
   "metadata": {},
   "outputs": [
    {
     "data": {
      "text/plain": [
       "{'cod': 401,\n",
       " 'message': 'Invalid API key. Please see https://openweathermap.org/faq#error401 for more info.'}"
      ]
     },
     "execution_count": 11,
     "metadata": {},
     "output_type": "execute_result"
    }
   ],
   "source": [
    "data.json()"
   ]
  },
  {
   "cell_type": "code",
   "execution_count": null,
   "id": "a2fc3711-c734-4386-b1e2-93968a6b5454",
   "metadata": {},
   "outputs": [],
   "source": [
    "'''Develop a recommendation system using Flask that suggests content to users based on their preferences.'''"
   ]
  }
 ],
 "metadata": {
  "kernelspec": {
   "display_name": "Python 3 (ipykernel)",
   "language": "python",
   "name": "python3"
  },
  "language_info": {
   "codemirror_mode": {
    "name": "ipython",
    "version": 3
   },
   "file_extension": ".py",
   "mimetype": "text/x-python",
   "name": "python",
   "nbconvert_exporter": "python",
   "pygments_lexer": "ipython3",
   "version": "3.10.8"
  }
 },
 "nbformat": 4,
 "nbformat_minor": 5
}
